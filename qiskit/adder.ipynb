{
 "cells": [
  {
   "cell_type": "markdown",
   "metadata": {},
   "source": [
    "add\\\n",
    "<img src=\"./image/QADD.png\" width=\"50%\" height=\"50%\">\\\n",
    "maj & uma\\\n",
    "<img src=\"./image/MAJ_detail.png\" width=\"30%\" height=\"30%\">\n",
    "<img src=\"./image/UMA_detail.png\" width=\"30%\" height=\"30%\">\\"
   ]
  },
  {
   "cell_type": "code",
   "execution_count": 1,
   "metadata": {},
   "outputs": [],
   "source": [
    "import numpy as np\n",
    "from qiskit import *\n",
    "from math import pi\n",
    "\n",
    "class Adder:\n",
    "    def __init__(self,qc,n):\n",
    "        self.qc = qc\n",
    "        self.n = n\n",
    "        self.maj = self.MAJ()\n",
    "        self.uma = self.UMA()\n",
    "        \n",
    "    def MAJ(self):\n",
    "        sub_q = QuantumRegister(3)\n",
    "        sub_circ = QuantumCircuit(sub_q, name='MAJ')\n",
    "        sub_circ.cx(sub_q[2],sub_q[1])\n",
    "        sub_circ.cx(sub_q[2],sub_q[0])\n",
    "        sub_circ.ccx(sub_q[0],sub_q[1],sub_q[2])\n",
    "        \n",
    "        # Convert to a gate and stick it into an arbitrary place in the bigger circuit\n",
    "        sub_inst = sub_circ.to_instruction()\n",
    "        return sub_inst\n",
    "\n",
    "\n",
    "        \n",
    "    def UMA(self):\n",
    "        sub_q = QuantumRegister(3)\n",
    "        sub_circ = QuantumCircuit(sub_q, name='UMA')\n",
    "        sub_circ.ccx(sub_q[0],sub_q[1],sub_q[2])\n",
    "        sub_circ.cx(sub_q[2],sub_q[0])\n",
    "        sub_circ.cx(sub_q[0],sub_q[1])\n",
    "        \n",
    "        # Convert to a gate and stick it into an arbitrary place in the bigger circuit\n",
    "        sub_inst = sub_circ.to_instruction()\n",
    "        return sub_inst\n",
    "    \n",
    "    #n位加法器 \n",
    "    def add(self):\n",
    "        for i in range(self.n):\n",
    "            qc.append(self.maj, [qr[2*i],qr[2*i+1],qr[2*i+2]])\n",
    "        self.qc.cx(2*self.n,2*self.n+1)\n",
    "        for i in range(self.n):\n",
    "            qc.append(self.uma,[qr[2*(n-1-i)],qr[2*(n-1-i)+1],qr[2*(n-1-i)+2]])\n",
    "            \n",
    "    #测量\n",
    "    def measure(self):\n",
    "        for i in range(self.n+1):\n",
    "            self.qc.measure(2*i+1,i)"
   ]
  },
  {
   "cell_type": "code",
   "execution_count": 2,
   "metadata": {},
   "outputs": [
    {
     "name": "stdout",
     "output_type": "stream",
     "text": [
      "10101 10110\n",
      "['1', '0', '1', '0', '1'] ['0', '1', '1', '0', '1']\n",
      "5\n"
     ]
    }
   ],
   "source": [
    "num1 = int(input(\"请输入第一个十进制数：\"))  # 获取用户输入的十进制数\n",
    "num2 = int(input(\"请输入第二个十进制数：\"))\n",
    "n1 = bin(num1)[2:]  # 使用 Python 内置函数 bin() 将十进制数转换为二进制数\n",
    "n2 = bin(num2)[2:]\n",
    "print(n1,n2)\n",
    "\n",
    "list1 = list(reversed(n1))\n",
    "list2 = list(reversed(n2))\n",
    "print(list1,list2)\n",
    "length = max(len(n1),len(n2))\n",
    "print(length)\n"
   ]
  },
  {
   "cell_type": "code",
   "execution_count": 3,
   "metadata": {},
   "outputs": [
    {
     "data": {
      "image/png": "[encoded data removed]",
      "text/plain": [
       "<Figure size 656.116x403.34 with 1 Axes>"
      ]
     },
     "execution_count": 3,
     "metadata": {},
     "output_type": "execute_result"
    }
   ],
   "source": [
    "n = length\n",
    "qr = QuantumRegister(2*n+2,'qr')\n",
    "cr = ClassicalRegister(n+1,'cr')\n",
    "qc = QuantumCircuit(qr,cr)\n",
    "\n",
    "#初态制备\n",
    "for i in range(len(n1)):\n",
    "    if list1[i] == '1':\n",
    "        qc.x(2*i+1)\n",
    "for j in range(len(n2)):\n",
    "    if list2[j] == '1':\n",
    "        qc.x(2*j+2)\n",
    "qc.barrier()\n",
    "\n",
    "#n位加法器\n",
    "adder = Adder(qc,n)\n",
    "adder.add()\n",
    "qc.barrier()\n",
    "adder.measure()\n",
    "adder.qc.draw('mpl',scale=0.5)\n"
   ]
  },
  {
   "cell_type": "code",
   "execution_count": 4,
   "metadata": {},
   "outputs": [
    {
     "name": "stdout",
     "output_type": "stream",
     "text": [
      "{'101011': 1024}\n",
      "['101011']\n"
     ]
    }
   ],
   "source": [
    "# Use Aer's qasm_simulator\n",
    "simulator = Aer.get_backend('qasm_simulator')\n",
    "\n",
    "compiled = transpile(qc, simulator)\n",
    "\n",
    "# Execute the circuit on the qasm simulator.\n",
    "# We've set the number of repeats of the circuit\n",
    "# to be 1024, which is the default.\n",
    "job = simulator.run(compiled, shots=1024)\n",
    "\n",
    "\n",
    "# Grab the results from the job.\n",
    "result = job.result()\n",
    "counts = result.get_counts(compiled)\n",
    "print(counts)\n",
    "\n",
    "res = []\n",
    "for i in counts.keys():\n",
    "    res.append(i)\n",
    "print(res)\n"
   ]
  },
  {
   "cell_type": "code",
   "execution_count": 5,
   "metadata": {},
   "outputs": [
    {
     "name": "stdout",
     "output_type": "stream",
     "text": [
      "101011\n",
      "43\n"
     ]
    }
   ],
   "source": [
    "binary_str = ''.join(str(bit) for bit in res)  # 将列表中的 0 和 1 转换为字符串并拼接起来\n",
    "print(binary_str)\n",
    "print(int(binary_str,2))"
   ]
  }
 ],
 "metadata": {
  "kernelspec": {
   "display_name": "Python 3",
   "language": "python",
   "name": "python3"
  },
  "language_info": {
   "codemirror_mode": {
    "name": "ipython",
    "version": 3
   },
   "file_extension": ".py",
   "mimetype": "text/x-python",
   "name": "python",
   "nbconvert_exporter": "python",
   "pygments_lexer": "ipython3",
   "version": "3.8.16"
  },
  "vscode": {
   "interpreter": {
    "hash": "31f2aee4e71d21fbe5cf8b01ff0e069b9275f58929596ceb00d14d90e3e16cd6"
   }
  }
 },
 "nbformat": 4,
 "nbformat_minor": 2
}
