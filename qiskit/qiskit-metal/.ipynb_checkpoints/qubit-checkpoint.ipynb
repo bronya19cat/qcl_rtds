{
 "cells": [
  {
   "cell_type": "code",
   "execution_count": 1,
   "metadata": {},
   "outputs": [],
   "source": [
    "# So, let us dive right in. For convenience, let's begin by enabling\n",
    "# automatic reloading of modules when they change.\n",
    "%load_ext autoreload\n",
    "%autoreload 2"
   ]
  },
  {
   "cell_type": "code",
   "execution_count": 2,
   "metadata": {},
   "outputs": [],
   "source": [
    "import qiskit_metal as metal\n",
    "from qiskit_metal import designs, draw\n",
    "from qiskit_metal import MetalGUI, Dict, open_docs"
   ]
  },
  {
   "cell_type": "code",
   "execution_count": 3,
   "metadata": {},
   "outputs": [],
   "source": [
    "# Each time you create a new quantum circuit design,\n",
    "# you start by instantiating a QDesign class.\n",
    "\n",
    "# The design class `DesignPlanar` is best for 2D circuit designs.\n",
    "\n",
    "design = designs.DesignPlanar()"
   ]
  },
  {
   "cell_type": "code",
   "execution_count": null,
   "metadata": {},
   "outputs": [
    {
     "name": "stderr",
     "output_type": "stream",
     "text": [
      "09:44PM 36s CRITICAL [_qt_message_handler]: line: 0, func: None(), file: None  WARNING: could not connect to display \n",
      "\n",
      "09:44PM 36s CRITICAL [_qt_message_handler]: line: 0, func: None(), file: None  INFO: Could not load the Qt platform plugin \"xcb\" in \"\" even though it was found.\n",
      "\n",
      "09:44PM 36s CRITICAL [_qt_message_handler]: line: 0, func: None(), file: None  FATAL: This application failed to start because no Qt platform plugin could be initialized. Reinstalling the application may fix this problem.\n",
      "\n",
      "Available platform plugins are: eglfs, minimal, minimalegl, offscreen, vnc, webgl, xcb.\n",
      "\n",
      "\n"
     ]
    }
   ],
   "source": [
    "#Launch Qiskit Metal GUI to interactively view, edit, and simulate QDesign: Metal GUI\n",
    "gui = MetalGUI(design)"
   ]
  },
  {
   "cell_type": "code",
   "execution_count": null,
   "metadata": {},
   "outputs": [],
   "source": [
    "from qiskit_metal.qlibrary.qubits.transmon_cross import TransmonCross\n",
    "\n",
    "# Be aware of the default_options that can be overridden by user.\n",
    "TransmonCross.get_template_options(design)"
   ]
  },
  {
   "cell_type": "code",
   "execution_count": null,
   "metadata": {},
   "outputs": [],
   "source": [
    "# The connectord_type can be string of '0' for 'Claw' or '1' for 'Gap'\n",
    "# to define which type of connector is used.\n",
    "\n",
    "# The connector_location can be string of '0', '90', '180'  degrees which of the three arms where a given connector should be.\n",
    "# South is for the junction.\n",
    "\n",
    "xmon_options = dict(\n",
    "    connection_pads=dict(\n",
    "        a = dict( connector_location = '0', connector_type = '0'),\n",
    "        b = dict(connector_location = '90', connector_type = '0'),\n",
    "        c = dict(connector_location = '180', connector_type = '1'),\n",
    "    ),\n",
    ")\n",
    "\n",
    "# Create a new Transmon Cross object with name 'Q1'\n",
    "q1 = TransmonCross(design, 'Q1', options=xmon_options)\n",
    "\n",
    "gui.rebuild()  # rebuild the design and plot\n",
    "gui.autoscale() #resize GUI to see QComponent\n",
    "gui.zoom_on_components(['Q1']) #Can also gui.zoom_on_components([q1.name])"
   ]
  },
  {
   "cell_type": "code",
   "execution_count": null,
   "metadata": {},
   "outputs": [],
   "source": [
    "# Let's see what the Q1 object looks like\n",
    "q1 #print Q1 information"
   ]
  },
  {
   "cell_type": "code",
   "execution_count": null,
   "metadata": {},
   "outputs": [],
   "source": [
    "# Save screenshot as a .png formatted file.\n",
    "\n",
    "gui.screenshot()"
   ]
  },
  {
   "cell_type": "code",
   "execution_count": null,
   "metadata": {},
   "outputs": [],
   "source": [
    "# Screenshot the canvas only as a .png formatted file.\n",
    "gui.figure.savefig('shot.png')\n",
    "\n",
    "from IPython.display import Image, display\n",
    "_disp_ops = dict(width=500)\n",
    "display(Image('shot.png', **_disp_ops))"
   ]
  },
  {
   "cell_type": "markdown",
   "metadata": {},
   "source": [
    "there are errors above"
   ]
  }
 ],
 "metadata": {
  "interpreter": {
   "hash": "74f813988adb2d588e28c60026bf748079ea3980cd579d50f8c47b21a720f24a"
  },
  "kernelspec": {
   "display_name": "metal",
   "language": "python",
   "name": "metal"
  },
  "language_info": {
   "codemirror_mode": {
    "name": "ipython",
    "version": 3
   },
   "file_extension": ".py",
   "mimetype": "text/x-python",
   "name": "python",
   "nbconvert_exporter": "python",
   "pygments_lexer": "ipython3",
   "version": "3.9.12"
  }
 },
 "nbformat": 4,
 "nbformat_minor": 4
}
