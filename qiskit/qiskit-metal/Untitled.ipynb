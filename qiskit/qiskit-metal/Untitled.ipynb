{
 "cells": [
  {
   "cell_type": "code",
   "execution_count": null,
   "id": "4860b075",
   "metadata": {},
   "outputs": [
    {
     "name": "stderr",
     "output_type": "stream",
     "text": [
      "08:26PM 01s CRITICAL [_qt_message_handler]: line: 0, func: None(), file: None  WARNING: could not connect to display \n",
      "\n",
      "08:26PM 01s CRITICAL [_qt_message_handler]: line: 0, func: None(), file: None  INFO: Could not load the Qt platform plugin \"xcb\" in \"\" even though it was found.\n",
      "\n"
     ]
    }
   ],
   "source": [
    "from qiskit_metal import designs, draw, MetalGUI, Dict, open_docs\n",
    "design = designs.DesignPlanar()\n",
    "design.overwrite_enabled = True\n",
    "design.chips.main\n",
    "design.chips.main.size.size_x = '11mm'\n",
    "design.chips.main.size.size_y = '9mm'\n",
    "gui = MetalGUI(design)"
   ]
  },
  {
   "cell_type": "code",
   "execution_count": 1,
   "id": "f74cea03",
   "metadata": {},
   "outputs": [
    {
     "ename": "NameError",
     "evalue": "name 'design' is not defined",
     "output_type": "error",
     "traceback": [
      "\u001b[0;31m---------------------------------------------------------------------------\u001b[0m",
      "\u001b[0;31mNameError\u001b[0m                                 Traceback (most recent call last)",
      "Input \u001b[0;32mIn [1]\u001b[0m, in \u001b[0;36m<cell line: 2>\u001b[0;34m()\u001b[0m\n\u001b[1;32m      1\u001b[0m \u001b[38;5;28;01mfrom\u001b[39;00m \u001b[38;5;21;01mqiskit_metal\u001b[39;00m\u001b[38;5;21;01m.\u001b[39;00m\u001b[38;5;21;01mqlibrary\u001b[39;00m\u001b[38;5;21;01m.\u001b[39;00m\u001b[38;5;21;01mqubits\u001b[39;00m\u001b[38;5;21;01m.\u001b[39;00m\u001b[38;5;21;01mtransmon_pocket\u001b[39;00m \u001b[38;5;28;01mimport\u001b[39;00m TransmonPocket\n\u001b[0;32m----> 2\u001b[0m q1 \u001b[38;5;241m=\u001b[39m TransmonPocket(\u001b[43mdesign\u001b[49m, \u001b[38;5;124m'\u001b[39m\u001b[38;5;124mQ1\u001b[39m\u001b[38;5;124m'\u001b[39m, options\u001b[38;5;241m=\u001b[39m\u001b[38;5;28mdict\u001b[39m(connection_pads\u001b[38;5;241m=\u001b[39m\u001b[38;5;28mdict\u001b[39m(a\u001b[38;5;241m=\u001b[39m\u001b[38;5;28mdict\u001b[39m())))\n\u001b[1;32m      3\u001b[0m gui\u001b[38;5;241m.\u001b[39mrebuild()\n\u001b[1;32m      4\u001b[0m gui\u001b[38;5;241m.\u001b[39medit_component(\u001b[38;5;124m'\u001b[39m\u001b[38;5;124mQ1\u001b[39m\u001b[38;5;124m'\u001b[39m)\n",
      "\u001b[0;31mNameError\u001b[0m: name 'design' is not defined"
     ]
    }
   ],
   "source": [
    "from qiskit_metal.qlibrary.qubits.transmon_pocket import TransmonPocket\n",
    "q1 = TransmonPocket(design, 'Q1', options=dict(connection_pads=dict(a=dict())))\n",
    "gui.rebuild()\n",
    "gui.edit_component('Q1')\n",
    "gui.autoscale()"
   ]
  },
  {
   "cell_type": "code",
   "execution_count": null,
   "id": "8a44b031",
   "metadata": {},
   "outputs": [],
   "source": []
  }
 ],
 "metadata": {
  "kernelspec": {
   "display_name": "metal",
   "language": "python",
   "name": "metal"
  },
  "language_info": {
   "codemirror_mode": {
    "name": "ipython",
    "version": 3
   },
   "file_extension": ".py",
   "mimetype": "text/x-python",
   "name": "python",
   "nbconvert_exporter": "python",
   "pygments_lexer": "ipython3",
   "version": "3.9.12"
  }
 },
 "nbformat": 4,
 "nbformat_minor": 5
}
