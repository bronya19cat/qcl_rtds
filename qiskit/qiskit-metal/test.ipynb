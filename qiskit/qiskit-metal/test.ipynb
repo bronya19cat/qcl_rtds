{
 "cells": [
  {
   "cell_type": "code",
   "execution_count": null,
   "metadata": {},
   "outputs": [
    {
     "name": "stderr",
     "output_type": "stream",
     "text": [
      "08:21PM 02s CRITICAL [_qt_message_handler]: line: 0, func: None(), file: None  WARNING: could not connect to display \n",
      "\n",
      "08:21PM 02s CRITICAL [_qt_message_handler]: line: 0, func: None(), file: None  INFO: Could not load the Qt platform plugin \"xcb\" in \"\" even though it was found.\n",
      "\n",
      "08:21PM 02s CRITICAL [_qt_message_handler]: line: 0, func: None(), file: None  FATAL: This application failed to start because no Qt platform plugin could be initialized. Reinstalling the application may fix this problem.\n",
      "\n",
      "Available platform plugins are: eglfs, minimal, minimalegl, offscreen, vnc, webgl, xcb.\n",
      "\n",
      "\n"
     ]
    }
   ],
   "source": [
    "%load_ext autoreload\n",
    "%autoreload 2\n",
    "import qiskit_metal as metal\n",
    "from qiskit_metal import designs, draw\n",
    "from qiskit_metal import MetalGUI, Dict, open_docs\n",
    "from qiskit_metal.qlibrary.qubits.transmon_cross import TransmonCross\n",
    "import os\n",
    "os.environ[\"KMP_DUPLICATE_LIB_OK\"]=\"TRUE\"\n",
    "\n",
    "design = designs.DesignPlanar()\n",
    "gui = MetalGUI(design)\n",
    "\n",
    "TransmonCross.get_template_options(design)\n",
    "\n",
    "xmon_options = dict(\n",
    "    connection_pads=dict(\n",
    "        a = dict( connector_location = '0', connector_type = '0'),\n",
    "        b = dict(connector_location = '90', connector_type = '0'),\n",
    "        c = dict(connector_location = '180', connector_type = '1'),\n",
    "    ),\n",
    ")\n",
    "q1 = TransmonCross(design, 'Q1', options=xmon_options)\n",
    "\n",
    "gui.rebuild()  # rebuild the design and plot\n",
    "gui.autoscale() #resize GUI to see QComponent\n",
    "gui.zoom_on_components(['Q1']) #Can also gui.zoom_on_components([q1.name])\n",
    "\n"
   ]
  },
  {
   "cell_type": "code",
   "execution_count": null,
   "metadata": {},
   "outputs": [],
   "source": []
  }
 ],
 "metadata": {
  "interpreter": {
   "hash": "916dbcbb3f70747c44a77c7bcd40155683ae19c65e1c03b4aa3499c5328201f1"
  },
  "kernelspec": {
   "display_name": "metal",
   "language": "python",
   "name": "metal"
  },
  "language_info": {
   "codemirror_mode": {
    "name": "ipython",
    "version": 3
   },
   "file_extension": ".py",
   "mimetype": "text/x-python",
   "name": "python",
   "nbconvert_exporter": "python",
   "pygments_lexer": "ipython3",
   "version": "3.9.12"
  }
 },
 "nbformat": 4,
 "nbformat_minor": 4
}
