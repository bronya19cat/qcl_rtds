{
 "cells": [
  {
   "cell_type": "code",
   "execution_count": 1,
   "metadata": {},
   "outputs": [],
   "source": [
    "# 替换index中的字符\n",
    "def replace_string_in_file(old_string, new_string):\n",
    "    with open(\"index.rst\", 'r') as file:\n",
    "        filedata = file.read()\n",
    "\n",
    "    filedata = filedata.replace(old_string, new_string)\n",
    "\n",
    "    with open(\"index.rst\", 'w') as file:\n",
    "        file.write(filedata)\n",
    "\n",
    "# 定义要替换的字符串和新的字符串\n",
    "old_string = 'chip-design'\n",
    "new_string = 'chipdesign'\n",
    "\n",
    "# 调用函数进行替换\n",
    "replace_string_in_file(old_string, new_string)"
   ]
  },
  {
   "cell_type": "code",
   "execution_count": 8,
   "metadata": {},
   "outputs": [],
   "source": [
    "# 在index的caption后中加入新的文件\n",
    "import os\n",
    "def add_filenames(directory, string_incoulded, target_position):\n",
    "    all_file=target_position+\"\\n\"\n",
    "    for filename in os.listdir(directory):\n",
    "        if string_incoulded in filename:\n",
    "            add_file = os.path.join(directory, filename)\n",
    "            all_file = all_file+\"\\n   \"+add_file\n",
    "\n",
    "    with open(\"index.rst\", 'r') as file:\n",
    "        filedata = file.read()\n",
    "\n",
    "    filedata = filedata.replace(target_position, all_file)\n",
    "\n",
    "    with open(\"index.rst\", 'w') as file:\n",
    "        file.write(filedata)\n",
    "\n",
    "# 指定目录路径\n",
    "directory = 'chip-design'\n",
    "\n",
    "# 文件名字包含的字符\n",
    "string_incoulded = \".md\"\n",
    "\n",
    "# 指定目标字符串\n",
    "target_position = '   :caption: CHIP'\n",
    "\n",
    "# 调用函数进行替换\n",
    "add_filenames(directory, string_incoulded, target_position)"
   ]
  },
  {
   "cell_type": "code",
   "execution_count": 6,
   "metadata": {},
   "outputs": [
    {
     "name": "stdout",
     "output_type": "stream",
     "text": [
      "path/to/file1.txt, path/to/file2.txt, path/to/file3.txt\n"
     ]
    }
   ],
   "source": [
    "# test for os-path-join\n",
    "import os\n",
    "\n",
    "# 示例目标文件\n",
    "files = ['file1.txt', 'file2.txt', 'file3.txt']\n",
    "\n",
    "# 使用 os.path.join 连接目标文件\n",
    "file_paths = [os.path.join('path/to', file) for file in files]\n",
    "\n",
    "# 使用字符串的 .join() 方法连接路径\n",
    "full_path = ', '.join(file_paths)\n",
    "\n",
    "# 打印连接后的路径\n",
    "print(full_path)\n"
   ]
  }
 ],
 "metadata": {
  "kernelspec": {
   "display_name": "base",
   "language": "python",
   "name": "python3"
  },
  "language_info": {
   "codemirror_mode": {
    "name": "ipython",
    "version": 3
   },
   "file_extension": ".py",
   "mimetype": "text/x-python",
   "name": "python",
   "nbconvert_exporter": "python",
   "pygments_lexer": "ipython3",
   "version": "3.7.7"
  },
  "orig_nbformat": 4
 },
 "nbformat": 4,
 "nbformat_minor": 2
}
